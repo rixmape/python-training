{
 "cells": [
  {
   "cell_type": "markdown",
   "metadata": {},
   "source": [
    "# 3. Advanced Python Concepts\n",
    "\n",
    "In this section, we will explore advanced Python concepts that will take your Python programming skills to the next level. These concepts include object-oriented programming, file handling, exception handling, lambda functions, decorators, and an introduction to Python libraries."
   ]
  },
  {
   "cell_type": "markdown",
   "metadata": {},
   "source": [
    "## Lesson"
   ]
  },
  {
   "cell_type": "markdown",
   "metadata": {},
   "source": [
    "### Object-Oriented Programming (OOP)\n",
    "\n",
    "#### Classes and Objects\n",
    "\n",
    "- Classes are a way to create new types in Python.\n",
    "- Objects are instances of a class.\n",
    "- Classes are defined using the `class` keyword."
   ]
  },
  {
   "cell_type": "code",
   "execution_count": null,
   "metadata": {},
   "outputs": [],
   "source": [
    "class Person:\n",
    "    def __init__(self, name, age):\n",
    "        self.name = name\n",
    "        self.age = age\n",
    "\n",
    "    def greet(self):\n",
    "        return f\"Hello, my name is {self.name} and I'm {self.age} years old.\"\n",
    "\n",
    "person1 = Person(\"Alice\", 30)"
   ]
  },
  {
   "cell_type": "markdown",
   "metadata": {},
   "source": [
    "#### Inheritance and Polymorphism\n",
    "\n",
    "- Inheritance creates new classes from existing ones.\n",
    "- Polymorphism allows us to use the same interface for different types."
   ]
  },
  {
   "cell_type": "code",
   "execution_count": null,
   "metadata": {},
   "outputs": [],
   "source": [
    "class Student(Person):\n",
    "    def __init__(self, name, age, student_id):\n",
    "        super().__init__(name, age)\n",
    "        self.student_id = student_id\n",
    "\n",
    "    def greet(self):\n",
    "        return f\"Hello, I'm a student with ID {self.student_id}.\"\n",
    "\n",
    "student1 = Student(\"Bob\", 21, \"S12345\")"
   ]
  },
  {
   "cell_type": "markdown",
   "metadata": {},
   "source": [
    "### File Handling\n",
    "\n",
    "- Python can be used to read and write files.\n",
    "- The `open()` function is used to open files.\n",
    "- File modes include `r` for reading, `w` for writing, and `a` for appending.\n",
    "- The `with` statement is used to ensure that files are closed properly."
   ]
  },
  {
   "cell_type": "code",
   "execution_count": null,
   "metadata": {},
   "outputs": [],
   "source": [
    "with open(\"my_file.txt\", \"w\") as file:\n",
    "    file.write(\"Hello, World!\\n\")\n",
    "    file.write(\"This is a new line.\")"
   ]
  },
  {
   "cell_type": "markdown",
   "metadata": {},
   "source": [
    "### Exception Handling\n",
    "\n",
    "- Exceptions are errors that occur during program execution.\n",
    "- Exceptions can be handled using `try` and `except` statements.\n",
    "- The `else` statement is used to execute code when no exceptions are raised.\n",
    "- The `finally` statement is used to execute code after an exception is handled."
   ]
  },
  {
   "cell_type": "code",
   "execution_count": null,
   "metadata": {},
   "outputs": [],
   "source": [
    "try:\n",
    "    result = 10 / 0\n",
    "except ZeroDivisionError:\n",
    "    print(\"Division by zero is not allowed.\")\n",
    "else:\n",
    "    print(\"No exception occurred.\")\n",
    "finally:\n",
    "    print(\"Finally block always executes.\")"
   ]
  },
  {
   "cell_type": "markdown",
   "metadata": {},
   "source": [
    "### Lambda Functions\n",
    "\n",
    "- Lambda functions are anonymous functions, suitable for simple tasks.\n",
    "- They can be used as arguments to other functions."
   ]
  },
  {
   "cell_type": "code",
   "execution_count": null,
   "metadata": {},
   "outputs": [],
   "source": [
    "add = lambda x, y: x + y\n",
    "result = add(3, 5)  # result is 8"
   ]
  },
  {
   "cell_type": "markdown",
   "metadata": {},
   "source": [
    "### Decorators\n",
    "\n",
    "- Decorators are functions that add functionality to other functions.\n",
    "- The return value of a decorator is a function.\n",
    "- The `@` symbol is used to apply a decorator to a function. "
   ]
  },
  {
   "cell_type": "code",
   "execution_count": null,
   "metadata": {},
   "outputs": [],
   "source": [
    "def my_decorator(func):\n",
    "    def wrapper():\n",
    "        print(\"Something is happening before the function is called.\")\n",
    "        func()\n",
    "        print(\"Something is happening after the function is called.\")\n",
    "    return wrapper\n",
    "\n",
    "@my_decorator\n",
    "def say_hello():\n",
    "    print(\"Hello!\")\n",
    "\n",
    "say_hello()"
   ]
  },
  {
   "cell_type": "markdown",
   "metadata": {},
   "source": [
    "## Exercises"
   ]
  },
  {
   "cell_type": "markdown",
   "metadata": {},
   "source": [
    "### Object-Oriented Programming\n",
    "\n",
    "Create a Python class `BankAccount` with attributes `account_number`, `account_holder`, and `balance`. Implement methods `deposit` and `withdraw` to modify the balance. Also, create two instances of the `BankAccount` class and perform deposit and withdrawal operations on them."
   ]
  },
  {
   "cell_type": "code",
   "execution_count": null,
   "metadata": {},
   "outputs": [],
   "source": [
    "# TODO: Delete this line and implement the function"
   ]
  },
  {
   "cell_type": "markdown",
   "metadata": {},
   "source": [
    "Run the following code cell to test your function."
   ]
  },
  {
   "cell_type": "code",
   "execution_count": null,
   "metadata": {},
   "outputs": [],
   "source": [
    "def test_bank_account():\n",
    "    account1 = BankAccount(\"A12345\", \"Alice\", 1000)\n",
    "    account2 = BankAccount(\"B56789\", \"Bob\", 500)\n",
    "\n",
    "    # Test deposit and withdraw methods\n",
    "    account1.deposit(500)\n",
    "    assert account1.balance == 1500\n",
    "    account1.withdraw(200)\n",
    "    assert account1.balance == 1300\n",
    "\n",
    "    # Test account holder names\n",
    "    assert account1.account_holder == \"Alice\"\n",
    "    assert account2.account_holder == \"Bob\"\n",
    "\n",
    "    # Test account numbers\n",
    "    assert account1.account_number == \"A12345\"\n",
    "    assert account2.account_number == \"B56789\"\n",
    "\n",
    "    print(\"Tests passed.\")\n",
    "\n",
    "test_bank_account()"
   ]
  },
  {
   "cell_type": "markdown",
   "metadata": {},
   "source": [
    "### File Handling\n",
    "\n",
    "Write a Python function `count_words_in_file` that takes a file name as a parameter, reads the contents of the file, and returns the number of words in the file. Test the function with different text files."
   ]
  },
  {
   "cell_type": "code",
   "execution_count": null,
   "metadata": {},
   "outputs": [],
   "source": [
    "# TODO: Delete this line and implement the function"
   ]
  },
  {
   "cell_type": "markdown",
   "metadata": {},
   "source": [
    "Run the following code cell to test your function."
   ]
  },
  {
   "cell_type": "code",
   "execution_count": null,
   "metadata": {},
   "outputs": [],
   "source": [
    "import os\n",
    "\n",
    "def test_count_words_in_file():\n",
    "    # Create a test text file\n",
    "    with open(\"test_file.txt\", \"w\") as file:\n",
    "        file.write(\"This is a test sentence.\\nAnother sentence here.\")\n",
    "\n",
    "    # Test the count_words_in_file function\n",
    "    assert count_words_in_file(\"test_file.txt\") == 8  # 8 words in the file\n",
    "\n",
    "    # Clean up: Remove the test file\n",
    "    os.remove(\"test_file.txt\")\n",
    "\n",
    "    print(\"Tests passed.\")\n",
    "\n",
    "test_count_words_in_file()"
   ]
  },
  {
   "cell_type": "markdown",
   "metadata": {},
   "source": [
    "### Exception Handling\n",
    "\n",
    "Create a Python function `safe_divide` that takes two numbers as parameters and returns the result of dividing the first number by the second number. Handle the division by zero exception gracefully, returning a message instead of raising an error."
   ]
  },
  {
   "cell_type": "code",
   "execution_count": null,
   "metadata": {},
   "outputs": [],
   "source": [
    "# TODO: Delete this line and implement the function"
   ]
  },
  {
   "cell_type": "markdown",
   "metadata": {},
   "source": [
    "Run the following code cell to test your function."
   ]
  },
  {
   "cell_type": "code",
   "execution_count": null,
   "metadata": {},
   "outputs": [],
   "source": [
    "def test_safe_divide():\n",
    "    # Test division by non-zero number\n",
    "    assert safe_divide(10, 2) == 5.0\n",
    "\n",
    "    # Test division by zero (exception handling)\n",
    "    assert safe_divide(5, 0) == \"Division by zero is not allowed.\"\n",
    "\n",
    "    print(\"Tests passed.\")\n",
    "\n",
    "test_safe_divide()"
   ]
  },
  {
   "cell_type": "markdown",
   "metadata": {},
   "source": [
    "### Lambda Functions\n",
    "\n",
    "Write a Python lambda function `calculate_area` that takes two parameters: `length` and `width`. This lambda function should return the area of a rectangle. Test the lambda function by calculating the area of different rectangles."
   ]
  },
  {
   "cell_type": "code",
   "execution_count": null,
   "metadata": {},
   "outputs": [],
   "source": [
    "# TODO: Delete this line and implement the function"
   ]
  },
  {
   "cell_type": "markdown",
   "metadata": {},
   "source": [
    "Run the following code cell to test your function."
   ]
  },
  {
   "cell_type": "code",
   "execution_count": null,
   "metadata": {},
   "outputs": [],
   "source": [
    "def test_calculate_area_lambda():\n",
    "    assert calculate_area(4, 3) == 12\n",
    "    assert calculate_area(5, 5) == 25\n",
    "    print(\"Tests passed.\")\n",
    "\n",
    "test_calculate_area_lambda()"
   ]
  },
  {
   "cell_type": "markdown",
   "metadata": {},
   "source": [
    "### Decorators\n",
    "\n",
    "Create a Python decorator `timeit` that measures and prints the execution time of a function. Implement a function `slow_function` that intentionally takes some time to execute. Decorate `slow_function` with the `timeit` decorator and measure its execution time."
   ]
  },
  {
   "cell_type": "code",
   "execution_count": null,
   "metadata": {},
   "outputs": [],
   "source": [
    "# TODO: Delete this line and implement the function"
   ]
  },
  {
   "cell_type": "markdown",
   "metadata": {},
   "source": [
    "Run the following code cell to test your function."
   ]
  },
  {
   "cell_type": "code",
   "execution_count": null,
   "metadata": {},
   "outputs": [],
   "source": [
    "import time\n",
    "\n",
    "def test_slow_function_with_timeit_decorator(capsys):\n",
    "    @timeit\n",
    "    def slow_function():\n",
    "        time.sleep(2)\n",
    "\n",
    "    slow_function()\n",
    "\n",
    "    # Check if the execution time is printed (approximately 2 seconds)\n",
    "    captured = capsys.readouterr()\n",
    "    assert \"Execution time:\" in captured.out\n",
    "    print(\"Tests passed.\")\n",
    "\n",
    "test_slow_function_with_timeit_decorator()"
   ]
  }
 ],
 "metadata": {
  "kernelspec": {
   "display_name": ".venv",
   "language": "python",
   "name": "python3"
  },
  "language_info": {
   "codemirror_mode": {
    "name": "ipython",
    "version": 3
   },
   "file_extension": ".py",
   "mimetype": "text/x-python",
   "name": "python",
   "nbconvert_exporter": "python",
   "pygments_lexer": "ipython3",
   "version": "3.11.5"
  }
 },
 "nbformat": 4,
 "nbformat_minor": 2
}
