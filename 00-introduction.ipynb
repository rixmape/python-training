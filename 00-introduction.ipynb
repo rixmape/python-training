{
 "cells": [
  {
   "cell_type": "markdown",
   "metadata": {},
   "source": [
    "# 0. Introduction"
   ]
  },
  {
   "cell_type": "markdown",
   "metadata": {},
   "source": [
    "## Python Programming Language\n",
    "\n",
    "Python is known for its simplicity, readability, and ease of learning. It has gained immense popularity in various domains, including web development, data science, artificial intelligence, and scientific computing. But what makes Python stand out?\n",
    "\n",
    "- **Readability**: Python's syntax is designed to be clear and readable, making it an excellent choice for both beginners and experienced programmers.\n",
    "\n",
    "- **Versatility**: Python is a multi-paradigm language, meaning you can write code in different styles, such as procedural, object-oriented, or functional. This adaptability is a significant advantage.\n",
    "\n",
    "- **Large Standard Library**: Python comes with a vast standard library, providing pre-built modules and functions that save you time and effort when writing code.\n",
    "\n",
    "- **Community and Ecosystem**: Python has a thriving community and a rich ecosystem of libraries and frameworks, making it suitable for various applications."
   ]
  },
  {
   "cell_type": "markdown",
   "metadata": {},
   "source": [
    "## Jupyter Notebook"
   ]
  },
  {
   "cell_type": "markdown",
   "metadata": {},
   "source": [
    "In this training, we will use Jupyter Notebook as our primary learning tool. Jupyter Notebook is an interactive web-based environment that allows us to write and execute Python code in an organized and visually appealing manner.\n",
    "\n",
    "- **Cells**: Jupyter Notebook is divided into cells, which can contain code, text, or visualizations. This structure helps break down complex topics into manageable sections.\n",
    "\n",
    "- **Real-time Execution**: You can run code cells and see the immediate output, making it an ideal tool for learning and experimentation.\n",
    "\n",
    "- **Documentation**: You can add explanations, notes, and Markdown text alongside your code, which is invaluable for learning and sharing your work."
   ]
  },
  {
   "cell_type": "markdown",
   "metadata": {},
   "source": [
    "## Markdown\n",
    "\n",
    "Markdown is a simple markup language that allows you to add formatting to plain text. It is widely used to create documentation and text content for web pages. Markdown is easy to learn and use, and it is supported by many applications, including Jupyter Notebook.\n",
    "\n",
    "- **Headings**: Use `#` to create headings of different sizes. The number of `#` characters indicates the heading level.\n",
    "\n",
    "- **Bold**: Use `**` to bolden text.\n",
    "\n",
    "- **Italics**: Use `*` to italicize text.\n",
    "\n",
    "- **Lists**: Use `-` to create a bulleted list and `1.` to create a numbered list.\n",
    "\n",
    "- **Links**: Use `[title](link)` to create a link.\n",
    "\n",
    "For a complete overview of Markdown syntax, refer to the [Markdown Guide](https://www.markdownguide.org/basic-syntax/)."
   ]
  },
  {
   "cell_type": "markdown",
   "metadata": {},
   "source": [
    "## Learning Resources\n",
    "\n",
    "### Videos\n",
    "\n",
    "- [Python in 100 Seconds](https://www.youtube.com/watch?v=x7X9w_GIm1s&pp=ygUGcHl0aG9u)\n",
    "- [CS50's Introduction to Programming with Python](https://www.youtube.com/playlist?list=PLhQjrBD2T3817j24-GogXmWqO5Q5vYy0V)\n",
    "\n",
    "### Texts\n",
    "\n",
    "- [Python for Everybody](https://www.py4e.com/html3/)"
   ]
  }
 ],
 "metadata": {
  "kernelspec": {
   "display_name": ".venv",
   "language": "python",
   "name": "python3"
  },
  "language_info": {
   "name": "python",
   "version": "3.11.5"
  }
 },
 "nbformat": 4,
 "nbformat_minor": 2
}
