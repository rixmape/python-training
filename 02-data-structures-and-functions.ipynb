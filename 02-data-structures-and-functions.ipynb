{
 "cells": [
  {
   "cell_type": "markdown",
   "metadata": {},
   "source": [
    "# 2. Data Structures and Functions\n",
    "\n",
    "In this section, we will explore more advanced concepts in Python, focusing on data structures and functions. Data structures allow us to organize and store data effectively, while functions enable us to encapsulate and reuse blocks of code."
   ]
  },
  {
   "cell_type": "markdown",
   "metadata": {},
   "source": [
    "## Lesson"
   ]
  },
  {
   "cell_type": "markdown",
   "metadata": {},
   "source": [
    "### Lists\n",
    "\n",
    "- Lists are ordered collections of items.\n",
    "- Elements can be of different types.\n",
    "- Lists are mutable (can be modified after creation).\n",
    "\n"
   ]
  },
  {
   "cell_type": "code",
   "execution_count": null,
   "metadata": {},
   "outputs": [],
   "source": [
    "my_list = [1, 2, 3, 4, 5]\n",
    "names = [\"Alice\", \"Bob\", \"Charlie\"]"
   ]
  },
  {
   "cell_type": "markdown",
   "metadata": {},
   "source": [
    "### Tuples\n",
    "\n",
    "- Tuples are ordered collections, like lists.\n",
    "- Elements can be of different types.\n",
    "- Tuples are immutable (cannot be modified after creation).\n",
    "\n"
   ]
  },
  {
   "cell_type": "code",
   "execution_count": null,
   "metadata": {},
   "outputs": [],
   "source": [
    "my_tuple = (1, 2, 3, 4, 5)\n",
    "coordinates = (42.0, -73.5)"
   ]
  },
  {
   "cell_type": "markdown",
   "metadata": {},
   "source": [
    "### Dictionaries\n",
    "\n",
    "- Dictionaries are key-value pairs.\n",
    "- Keys are unique and immutable (often strings).\n",
    "- Values can be of any type.\n",
    "\n"
   ]
  },
  {
   "cell_type": "code",
   "execution_count": null,
   "metadata": {},
   "outputs": [],
   "source": [
    "person = {\"name\": \"Alice\", \"age\": 30, \"city\": \"New York\"}"
   ]
  },
  {
   "cell_type": "markdown",
   "metadata": {},
   "source": [
    "### Functions\n",
    "\n",
    "- Functions allow you to encapsulate reusable blocks of code.\n",
    "- Use the def keyword followed by a function name and parameters."
   ]
  },
  {
   "cell_type": "code",
   "execution_count": null,
   "metadata": {},
   "outputs": [],
   "source": [
    "def greet(name):\n",
    "    return f\"Hello, {name}!\""
   ]
  },
  {
   "cell_type": "markdown",
   "metadata": {},
   "source": [
    "- Functions can take parameters (inputs) and return values (outputs)."
   ]
  },
  {
   "cell_type": "code",
   "execution_count": null,
   "metadata": {},
   "outputs": [],
   "source": [
    "def add(a, b):\n",
    "    return a + b"
   ]
  },
  {
   "cell_type": "markdown",
   "metadata": {},
   "source": [
    "- Scope of variables: local vs. global.\n",
    "- Local variables are defined within the function body and only exist inside the function.\n",
    "- Global variables are defined outside the function body and can be accessed anywhere."
   ]
  },
  {
   "cell_type": "code",
   "execution_count": null,
   "metadata": {},
   "outputs": [],
   "source": [
    "x = 10  # Global variable\n",
    "\n",
    "def my_function():\n",
    "    y = 5  # Local variable\n",
    "    return x + y"
   ]
  },
  {
   "cell_type": "markdown",
   "metadata": {},
   "source": [
    "## Common Built-in Functions and Methods\n",
    "\n",
    "- Python provides many built-in functions and methods for working with data structures.\n",
    "- Examples include `len`, `append`, `sort`, `split`, and more."
   ]
  },
  {
   "cell_type": "code",
   "execution_count": null,
   "metadata": {},
   "outputs": [],
   "source": [
    "my_list = [1, 2, 3, 4, 5]\n",
    "my_list.append(6)\n",
    "my_list"
   ]
  },
  {
   "cell_type": "markdown",
   "metadata": {},
   "source": [
    "## Modules and Libraries\n",
    "\n",
    "- Python has a vast standard library, and you can also create your own modules.\n",
    "- Modules are Python files containing functions, variables, and classes.\n",
    "- Libraries like `math`, `random`, and `datetime` provide useful functions and classes.\n",
    "- Importing modules and libraries using `import`."
   ]
  },
  {
   "cell_type": "code",
   "execution_count": null,
   "metadata": {},
   "outputs": [],
   "source": [
    "import math\n",
    "import random\n",
    "\n",
    "x = math.sqrt(16)\n",
    "random_number = random.randint(1, 100)"
   ]
  },
  {
   "cell_type": "markdown",
   "metadata": {},
   "source": [
    "## Exercises"
   ]
  },
  {
   "cell_type": "markdown",
   "metadata": {},
   "source": [
    "### Calculate the Average of a List\n",
    "\n",
    "Write a Python function `calculate_average` that takes a list of numbers as a parameter and returns the average of those numbers. Test the function with different lists of numbers."
   ]
  },
  {
   "cell_type": "code",
   "execution_count": null,
   "metadata": {},
   "outputs": [],
   "source": [
    "# TODO: Delete this line and implement the function"
   ]
  },
  {
   "cell_type": "markdown",
   "metadata": {},
   "source": [
    "Run the following code cell to test your function."
   ]
  },
  {
   "cell_type": "code",
   "execution_count": null,
   "metadata": {},
   "outputs": [],
   "source": [
    "def test_calculate_average():\n",
    "    assert calculate_average([1, 2, 3, 4, 5]) == 3.0\n",
    "    assert calculate_average([10, 20, 30]) == 20.0\n",
    "    assert calculate_average([5, 5, 5, 5]) == 5.0\n",
    "    assert calculate_average([]) == 0.0\n",
    "    print(\"Tests passed.\")\n",
    "\n",
    "test_calculate_average()"
   ]
  },
  {
   "cell_type": "markdown",
   "metadata": {},
   "source": [
    "### Find the Maximum Value in a List\n",
    "\n",
    "Create a function `find_max` that takes a list of numbers as a parameter and returns the maximum value in the list. Test the function with various lists."
   ]
  },
  {
   "cell_type": "code",
   "execution_count": null,
   "metadata": {},
   "outputs": [],
   "source": [
    "# TODO: Delete this line and implement the function"
   ]
  },
  {
   "cell_type": "markdown",
   "metadata": {},
   "source": [
    "Run the following code cell to test your function."
   ]
  },
  {
   "cell_type": "code",
   "execution_count": null,
   "metadata": {},
   "outputs": [],
   "source": [
    "def test_find_max():\n",
    "    assert find_max([1, 7, 3, 9, 4]) == 9\n",
    "    assert find_max([-10, -20, -5]) == -5\n",
    "    assert find_max([5, 5, 5, 5]) == 5\n",
    "    assert find_max([]) == None\n",
    "    print(\"Tests passed.\")\n",
    "\n",
    "test_find_max()"
   ]
  },
  {
   "cell_type": "markdown",
   "metadata": {},
   "source": [
    "### Count the Occurrences of a Character\n",
    "\n",
    "Write a function `count_char` that takes a string and a character as parameters and returns the number of times the character appears in the string. Test the function with different strings and characters."
   ]
  },
  {
   "cell_type": "code",
   "execution_count": null,
   "metadata": {},
   "outputs": [],
   "source": [
    "# TODO: Delete this line and implement the function"
   ]
  },
  {
   "cell_type": "markdown",
   "metadata": {},
   "source": [
    "Run the following code cell to test your function."
   ]
  },
  {
   "cell_type": "markdown",
   "metadata": {},
   "source": [
    "Run the following code cell to test your function."
   ]
  },
  {
   "cell_type": "code",
   "execution_count": null,
   "metadata": {},
   "outputs": [],
   "source": [
    "def test_count_char():\n",
    "    assert count_char(\"hello\", \"l\") == 2\n",
    "    assert count_char(\"programming\", \"g\") == 2\n",
    "    assert count_char(\"python\", \"x\") == 0\n",
    "    assert count_char(\"\", \"a\") == 0\n",
    "    print(\"Tests passed.\")\n",
    "\n",
    "test_count_char()"
   ]
  },
  {
   "cell_type": "markdown",
   "metadata": {},
   "source": [
    "### Merge Two Dictionaries\n",
    "\n",
    "Create a function `merge_dicts` that takes two dictionaries as parameters and returns a new dictionary that merges the two dictionaries. If there are overlapping keys, the values from the second dictionary should overwrite the values from the first dictionary."
   ]
  },
  {
   "cell_type": "code",
   "execution_count": null,
   "metadata": {},
   "outputs": [],
   "source": [
    "# TODO: Delete this line and implement the function"
   ]
  },
  {
   "cell_type": "markdown",
   "metadata": {},
   "source": [
    "Run the following code cell to test your function."
   ]
  },
  {
   "cell_type": "code",
   "execution_count": null,
   "metadata": {},
   "outputs": [],
   "source": [
    "def test_merge_dicts():\n",
    "    dict1 = {\"a\": 1, \"b\": 2}\n",
    "    dict2 = {\"b\": 3, \"c\": 4}\n",
    "    merged_dict = merge_dicts(dict1, dict2)\n",
    "    assert merged_dict == {\"a\": 1, \"b\": 3, \"c\": 4}\n",
    "\n",
    "    dict3 = {\"x\": 10, \"y\": 20}\n",
    "    dict4 = {\"z\": 30}\n",
    "    merged_dict = merge_dicts(dict3, dict4)\n",
    "    assert merged_dict == {\"x\": 10, \"y\": 20, \"z\": 30}\n",
    "\n",
    "    print(\"Tests passed.\")\n",
    "\n",
    "test_merge_dicts()"
   ]
  },
  {
   "cell_type": "markdown",
   "metadata": {},
   "source": [
    "### Check for Palindromes\n",
    "\n",
    "Write a function `is_palindrome` that takes a string as a parameter and returns `True` if the string is a palindrome (reads the same forwards and backward) and `False` otherwise."
   ]
  },
  {
   "cell_type": "code",
   "execution_count": null,
   "metadata": {},
   "outputs": [],
   "source": [
    "# TODO: Delete this line and implement the function"
   ]
  },
  {
   "cell_type": "markdown",
   "metadata": {},
   "source": [
    "Run the following code cell to test your function."
   ]
  },
  {
   "cell_type": "code",
   "execution_count": null,
   "metadata": {},
   "outputs": [],
   "source": [
    "def test_is_palindrome():\n",
    "    assert is_palindrome(\"racecar\") == True\n",
    "    assert is_palindrome(\"hello\") == False\n",
    "    assert is_palindrome(\"madam\") == True\n",
    "    assert is_palindrome(\"\") == True  # An empty string is a palindrome\n",
    "    print(\"Tests passed.\")\n",
    "\n",
    "test_is_palindrome()"
   ]
  }
 ],
 "metadata": {
  "kernelspec": {
   "display_name": ".venv",
   "language": "python",
   "name": "python3"
  },
  "language_info": {
   "codemirror_mode": {
    "name": "ipython",
    "version": 3
   },
   "file_extension": ".py",
   "mimetype": "text/x-python",
   "name": "python",
   "nbconvert_exporter": "python",
   "pygments_lexer": "ipython3",
   "version": "3.11.5"
  }
 },
 "nbformat": 4,
 "nbformat_minor": 2
}
