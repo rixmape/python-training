{
 "cells": [
  {
   "cell_type": "markdown",
   "metadata": {},
   "source": [
    "# 1. Python Basics\n",
    "\n",
    "In this section, we will dive into the fundamental building blocks of the Python programming language. This is where we'll cover Python syntax, data types, variables, basic input/output, operators, conditional statements, and loops. These concepts are crucial as they form the foundation upon which more advanced Python programming skills are built."
   ]
  },
  {
   "cell_type": "markdown",
   "metadata": {},
   "source": [
    "## Lesson"
   ]
  },
  {
   "cell_type": "markdown",
   "metadata": {},
   "source": [
    "### Python Syntax and Indention\n",
    "\n",
    "Python has a unique syntax that relies on indentation to define code blocks instead of using curly braces or keywords like \"end\" as in other languages like C or Java. Proper indentation is essential for code readability and correctness.\n",
    "\n",
    "```\n",
    "# Example of proper indentation\n",
    "if condition:\n",
    "    statement1\n",
    "    statement2\n",
    "else:\n",
    "    statement3\n",
    "```"
   ]
  },
  {
   "cell_type": "markdown",
   "metadata": {},
   "source": [
    "### Variables and Data Types\n",
    "\n",
    "- Variables are used to store data.\n",
    "- In Python, you don't need to declare a variable's type explicitly; it's dynamically typed.\n",
    "- Common data types: `int`, `float`, `str`, `bool`.\n",
    "\n",
    "Examples of variable declaration and assignment:"
   ]
  },
  {
   "cell_type": "code",
   "execution_count": null,
   "metadata": {},
   "outputs": [],
   "source": [
    "age = 25\n",
    "name = \"Alice\"\n",
    "is_student = True"
   ]
  },
  {
   "cell_type": "markdown",
   "metadata": {},
   "source": [
    "### Input and output\n",
    "\n",
    "- `print` function for displaying output.\n",
    "- `input` function for user input.\n",
    "\n"
   ]
  },
  {
   "cell_type": "code",
   "execution_count": null,
   "metadata": {},
   "outputs": [],
   "source": [
    "print(\"Hello, World!\")\n",
    "name = input(\"Enter your name: \")\n",
    "print(\"Hello, \" + name + \"!\")"
   ]
  },
  {
   "cell_type": "markdown",
   "metadata": {},
   "source": [
    "### Operators\n",
    "\n",
    "- Arithmetic operators: `+`, `-`, `*`, `/`, `%`, `//`, `**`.\n",
    "- Comparison operators: `==`, `!=`, `<`, `>`, `<=`, `>=`.\n",
    "- Logical operators: `and`, `or`, `not`.\n",
    "\n"
   ]
  },
  {
   "cell_type": "code",
   "execution_count": null,
   "metadata": {},
   "outputs": [],
   "source": [
    "x = 5\n",
    "y = 3\n",
    "result = x + y\n",
    "result"
   ]
  },
  {
   "cell_type": "code",
   "execution_count": null,
   "metadata": {},
   "outputs": [],
   "source": [
    "is_equal = (x == y)\n",
    "is_equal"
   ]
  },
  {
   "cell_type": "code",
   "execution_count": null,
   "metadata": {},
   "outputs": [],
   "source": [
    "is_true = x != y\n",
    "is_not_true = not is_true\n",
    "is_not_true"
   ]
  },
  {
   "cell_type": "markdown",
   "metadata": {},
   "source": [
    "### Conditional Statements\n",
    "\n",
    "- `if`, `elif`, and `else` for decision-making.\n",
    "- Indentation is crucial.\n",
    "\n"
   ]
  },
  {
   "cell_type": "code",
   "execution_count": null,
   "metadata": {},
   "outputs": [],
   "source": [
    "age = 18\n",
    "if age < 18:\n",
    "    print(\"You are underage.\")\n",
    "elif age == 18:\n",
    "    print(\"You are exactly 18.\")\n",
    "else:\n",
    "    print(\"You are an adult.\")"
   ]
  },
  {
   "cell_type": "markdown",
   "metadata": {},
   "source": [
    "### Looping Constructs\n",
    "\n",
    "- `for` loop for iterating over sequences (lists, strings, etc.).\n",
    "- `while` loop for repeated execution based on a condition.\n",
    "\n"
   ]
  },
  {
   "cell_type": "code",
   "execution_count": null,
   "metadata": {},
   "outputs": [],
   "source": [
    "for i in range(5):\n",
    "    print(i)"
   ]
  },
  {
   "cell_type": "code",
   "execution_count": null,
   "metadata": {},
   "outputs": [],
   "source": [
    "count = 0\n",
    "while count < 5:\n",
    "    print(count)\n",
    "    count += 1"
   ]
  },
  {
   "cell_type": "markdown",
   "metadata": {},
   "source": [
    "## Exercises"
   ]
  },
  {
   "cell_type": "markdown",
   "metadata": {},
   "source": [
    "### Calculate the Area of a Rectangle\n",
    "\n",
    "Write a Python function `calculate_rectangle_area` that takes two parameters, `length` and `width`, and returns the area of a rectangle. Test the function with different sets of values."
   ]
  },
  {
   "cell_type": "code",
   "execution_count": null,
   "metadata": {},
   "outputs": [],
   "source": [
    "# TODO: Delete this line and implement the function"
   ]
  },
  {
   "cell_type": "markdown",
   "metadata": {},
   "source": [
    "Run the following code cell to test your function."
   ]
  },
  {
   "cell_type": "code",
   "execution_count": null,
   "metadata": {},
   "outputs": [],
   "source": [
    "def test_calculate_rectangle_area():\n",
    "    assert calculate_rectangle_area(4, 5) == 20\n",
    "    assert calculate_rectangle_area(3, 7) == 21\n",
    "    assert calculate_rectangle_area(10, 2.5) == 25.0\n",
    "    assert calculate_rectangle_area(0, 10) == 0\n",
    "    print(\"Tests passed.\")\n",
    "\n",
    "test_calculate_rectangle_area()"
   ]
  },
  {
   "cell_type": "markdown",
   "metadata": {},
   "source": [
    "### Convert Temperature\n",
    "\n",
    "Create a function `celsius_to_fahrenheit` that takes a temperature in Celsius as a parameter and returns the equivalent temperature in Fahrenheit using the formula: Fahrenheit = (Celsius * 9/5) + 32. Test the function with a few Celsius values."
   ]
  },
  {
   "cell_type": "code",
   "execution_count": null,
   "metadata": {},
   "outputs": [],
   "source": [
    "# TODO: Delete this line and implement the function"
   ]
  },
  {
   "cell_type": "markdown",
   "metadata": {},
   "source": [
    "Run the following code cell to test your function."
   ]
  },
  {
   "cell_type": "code",
   "execution_count": null,
   "metadata": {},
   "outputs": [],
   "source": [
    "def test_celsius_to_fahrenheit():\n",
    "    assert celsius_to_fahrenheit(0) == 32.0\n",
    "    assert celsius_to_fahrenheit(100) == 212.0\n",
    "    assert celsius_to_fahrenheit(-40) == -40.0\n",
    "    assert celsius_to_fahrenheit(37) == 98.6\n",
    "    print(\"Tests passed.\")\n",
    "\n",
    "test_celsius_to_fahrenheit()"
   ]
  },
  {
   "cell_type": "markdown",
   "metadata": {},
   "source": [
    "### Check for Even Numbers\n",
    "Write a function `is_even` that takes an integer `n` as a parameter and returns `True` if `n` is even and `False` if it's odd. Test the function with various numbers."
   ]
  },
  {
   "cell_type": "code",
   "execution_count": null,
   "metadata": {},
   "outputs": [],
   "source": [
    "# TODO: Delete this line and implement the function"
   ]
  },
  {
   "cell_type": "markdown",
   "metadata": {},
   "source": [
    "Run the following code cell to test your function."
   ]
  },
  {
   "cell_type": "code",
   "execution_count": null,
   "metadata": {},
   "outputs": [],
   "source": [
    "def test_is_even(number):\n",
    "    assert is_even(2) == True\n",
    "    assert is_even(3) == False\n",
    "    assert is_even(8) == True\n",
    "    assert is_even(100) == True\n",
    "    assert is_even(101) == False\n",
    "    print(\"Tests passed.\")\n",
    "\n",
    "test_celsius_to_fahrenheit()"
   ]
  },
  {
   "cell_type": "markdown",
   "metadata": {},
   "source": [
    "### Compute Factorial\n",
    "Create a function `calculate_factorial` that takes a positive integer `n` as a parameter and returns the factorial of `n`. The factorial of a number `n` is the product of all positive integers from 1 to `n`. For example, the factorial of 5 is 5! = 5 x 4 x 3 x 2 x 1 = 120."
   ]
  },
  {
   "cell_type": "code",
   "execution_count": null,
   "metadata": {},
   "outputs": [],
   "source": [
    "# TODO: Delete this line and implement the function"
   ]
  },
  {
   "cell_type": "markdown",
   "metadata": {},
   "source": [
    "Run the following code cell to test your function."
   ]
  },
  {
   "cell_type": "code",
   "execution_count": null,
   "metadata": {},
   "outputs": [],
   "source": [
    "def test_calculate_factorial():\n",
    "    assert calculate_factorial(0) == 1\n",
    "    assert calculate_factorial(1) == 1\n",
    "    assert calculate_factorial(5) == 120\n",
    "    assert calculate_factorial(10) == 3628800\n",
    "    print(\"Tests passed.\")\n",
    "\n",
    "test_calculate_factorial()"
   ]
  },
  {
   "cell_type": "markdown",
   "metadata": {},
   "source": [
    "### Check for Leap Year\n",
    "\n",
    "Write a function `is_leap_year` that takes a year (integer) as a parameter and returns `True` if it's a leap year and `False` otherwise. A leap year is either divisible by 4 but not by 100, or it is divisible by 400. Test the function with different years to check for leap years."
   ]
  },
  {
   "cell_type": "code",
   "execution_count": null,
   "metadata": {},
   "outputs": [],
   "source": [
    "# TODO: Delete this line and implement the function"
   ]
  },
  {
   "cell_type": "markdown",
   "metadata": {},
   "source": [
    "Run the following code cell to test your function."
   ]
  },
  {
   "cell_type": "code",
   "execution_count": null,
   "metadata": {},
   "outputs": [],
   "source": [
    "def test_is_leap_year():\n",
    "    assert is_leap_year(2000) == True\n",
    "    assert is_leap_year(2024) == True\n",
    "    assert is_leap_year(1900) == False\n",
    "    assert is_leap_year(2022) == False\n",
    "    assert is_leap_year(2400) == True\n",
    "    print(\"Tests passed.\")\n",
    "\n",
    "test_is_leap_year()"
   ]
  }
 ],
 "metadata": {
  "kernelspec": {
   "display_name": ".venv",
   "language": "python",
   "name": "python3"
  },
  "language_info": {
   "codemirror_mode": {
    "name": "ipython",
    "version": 3
   },
   "file_extension": ".py",
   "mimetype": "text/x-python",
   "name": "python",
   "nbconvert_exporter": "python",
   "pygments_lexer": "ipython3",
   "version": "3.11.5"
  }
 },
 "nbformat": 4,
 "nbformat_minor": 2
}
